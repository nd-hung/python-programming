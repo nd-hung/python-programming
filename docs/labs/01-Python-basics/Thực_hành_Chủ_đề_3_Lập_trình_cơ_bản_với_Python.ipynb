{
  "cells": [
    {
      "cell_type": "markdown",
      "metadata": {
        "id": "z5oQJ8OjPVwn"
      },
      "source": [
        "# <table align=\"center\">\n",
        "  <tr >\n",
        "    <td>\n",
        "      <img src=\"https://drive.usercontent.google.com/download?id=1PW43TkPAGlUge80Ucid2c_OeL-6zdYh9\" align=\"left\" />\n",
        "    </td>\n",
        "    <td>\n",
        "      <h1>\n",
        "        TRƯỜNG ĐẠI HỌC NHA TRANG <br><b>KHOA CÔNG NGHỆ THÔNG TIN</b>\n",
        "        </h1>\n",
        "    </td>\n",
        "  </tr>\n",
        "</table>\n",
        "\n",
        "<h1><b> THỰC HÀNH LẬP TRÌNH PYTHON</b></h1>"
      ]
    },
    {
      "cell_type": "markdown",
      "metadata": {
        "id": "XjdJQ8VmyxZi"
      },
      "source": [
        "# Bài thực hành 1: Python cơ bản\n",
        "\n",
        "---\n",
        "\n",
        "\n",
        "\n",
        "## Bài 1.1: Chuẩn bị môi trường lập trình\n",
        "### Mục đích:\n",
        "    - Biết thiết lập môi trường lập trình Python trực tuyến.\n",
        "    - Viết & thực thi một vài chương trình đơn giản.\n",
        "  \n",
        "### Lập trình Python với Google Colaboratory\n",
        "  - Ưu điểm\n",
        "    - Môi trường lập trình tương tác, trực tuyến trên giao diện web.\n",
        "    - Không cần cài đặt môi trường lập trình, có sẵn các thư viện thông dụng.\n",
        "    - Tích hợp sẵn AI (Google Gemini) trợ giúp, hỗ trợ học lập trình.\n",
        "  - Hạn chế\n",
        "    - Máy tính cần kết nối Internet.\n",
        "    - Không đầy đủ tính năng như các phần mềm lập trình Python cài đặt trên máy tính (như PyCharm, Spyder...)\n",
        "\n",
        "> **Chú ý:**  Ngoài Google Colab, có một số môi trường lập trình Python trực tuyến miễn phí khác như: [Online Python](https://www.online-python.com/), [W2SchoolPython Online Compiler](https://www.w3schools.com/python/python_compiler.asp).\n",
        "\n",
        "\n",
        "### Chương trình Python đầu tiên  \n",
        "- [Mở môi trường lập trình Google Colaboratory](https://colab.research.google.com/).\n",
        "- Click **\"New Notebook\"** để tạo một tập tin mã nguồn mới. Đổi tên notebook thành \"Bài thực hành 1\" và lưu vào thư mục \"Lập trình Python\" trên Google Drive.\n",
        "- Tại ô viết mã lệnh, nhập vào lệnh sau:"
      ]
    },
    {
      "cell_type": "code",
      "execution_count": null,
      "metadata": {
        "colab": {
          "base_uri": "https://localhost:8080/"
        },
        "id": "I83TowYnPObJ",
        "outputId": "00ddf526-1656-4310-ae92-e09eb5e522ed"
      },
      "outputs": [
        {
          "name": "stdout",
          "output_type": "stream",
          "text": [
            "Hello Python coders!\n"
          ]
        }
      ],
      "source": [
        "# In ra câu chào \"Hello Python coders!\"\n",
        "print(\"Hello Python coders!\")"
      ]
    },
    {
      "cell_type": "markdown",
      "metadata": {
        "id": "HQEHGHJP_e3J"
      },
      "source": [
        "- Click biểu tượng mũi tên bên trái ô lệnh, hoặc nhấn tổ hợp phím (Ctrl+Enter) để chạy đoạn lệnh.\n",
        "- Quan sát kết quả trên màn hình."
      ]
    },
    {
      "cell_type": "markdown",
      "metadata": {
        "id": "vLpBoFEiALbh"
      },
      "source": [
        "\n",
        "\n",
        "---\n",
        "\n",
        "\n",
        "## Bài 1.2: Chào Anh Tuấn, chào mừng bạn đến Đại học Nha Trang!\n",
        "\n",
        "### Mục đích:\n",
        "    - Sử dụng được lệnh nhập, xuất dữ liệu dạng chuỗi.\n",
        "    - Thao tác với biến, biểu thức.\n",
        "\n",
        "### Các bước thực hiện\n",
        "\n",
        "- Chèn một ô mã nguồn vào bên dưới (click **+Code**) hoặc phím tắt **B**.\n",
        "- Nhập đoạn lệnh sau: [link text](https://)"
      ]
    },
    {
      "cell_type": "code",
      "execution_count": null,
      "metadata": {
        "colab": {
          "base_uri": "https://localhost:8080/"
        },
        "id": "mLbsWEYoJcZg",
        "outputId": "400e8c33-1a30-420e-8307-2f50917729aa"
      },
      "outputs": [
        {
          "name": "stdout",
          "output_type": "stream",
          "text": [
            "Xin nhập tên của bạn: Hưng\n",
            "Chào Hưng, chào mừng bạn đến Đại học Nha Trang!\n"
          ]
        }
      ],
      "source": [
        "# Viết chương trình mời nhập vào tên của một người, in ra lời chào người đó\n",
        "# Lệnh đọc chuỗi ký tự từ bàn phím và đưa vào biến 'name'\n",
        "name = input(\"Xin nhập tên của bạn: \")\n",
        "# In ra lời chào người có tên vừa nhập\n",
        "print(\"Chào \" + name + \", chào mừng bạn đến Đại học Nha Trang!\")"
      ]
    },
    {
      "cell_type": "markdown",
      "metadata": {
        "id": "nPmRCgodKUlz"
      },
      "source": [
        "- Chạy đoạn lệnh trên, nhập vào một tên khi được yêu cầu và nhấn Enter. Quan sát kết quả trên màn hình."
      ]
    },
    {
      "cell_type": "markdown",
      "metadata": {
        "id": "hOGgkT8uLzIs"
      },
      "source": [
        "## Bài 1.3: Tính chu vi, diện tích hình tròn\n",
        "\n",
        "### Mục đích:\n",
        "  - Sử dụng được lệnh nhập, xuất dữ liệu và chuyển đổi sang kiểu số.\n",
        "  - Biết sử dụng thư viện các hàm có sẵn của Python.\n",
        "\n",
        "### Các bước thực hiện\n",
        "- Chèn một ô mã nguồn vào bên dưới.\n",
        "- Nhập đoạn lệnh sau:"
      ]
    },
    {
      "cell_type": "code",
      "execution_count": null,
      "metadata": {
        "colab": {
          "base_uri": "https://localhost:8080/"
        },
        "id": "zpazHo3_MB47",
        "outputId": "e0720e3b-8a0e-462b-bacf-034f77bcfde5"
      },
      "outputs": [
        {
          "name": "stdout",
          "output_type": "stream",
          "text": [
            "Nhập bán kính = 2\n",
            "Chu vi hình tròn =  12.5664\n",
            "Diện tích hình tròn = 12.57\n"
          ]
        }
      ],
      "source": [
        "# Lệnh đọc giá trị bán kính hình tròn\n",
        "ban_kinh = float(input(\"Nhập bán kính = \"))\n",
        "# Tính chu vi hình tròn, biết hằng số PI gần bằng 3.1416\n",
        "chu_vi = ban_kinh * 2 * 3.1416\n",
        "# Tính diện tích hình tròn\n",
        "dien_tich = ban_kinh ** 2 * 3.1416\n",
        "# In ra diện tích hình tròn\n",
        "print(\"Chu vi hình tròn = \", chu_vi)\n",
        "# In ra diện tích hình tròn\n",
        "print(f\"Diện tích hình tròn = {dien_tich:.2f}\")\n"
      ]
    },
    {
      "cell_type": "markdown",
      "metadata": {
        "id": "2XP7jD8DPBsT"
      },
      "source": [
        "- Chạy đoạn code trên, nhập dữ liệu theo yêu cầu và quan sát kết quả.\n",
        "- Giải thích dòng lệnh 2, hàm float() có tác dụng gì?\n",
        "- Giải thích dòng lệnh 6.\n",
        "- So sánh lệnh in ra chu vi (dòng 8) với lệnh in ra diện tích (dòng 10).\n",
        "- Chạy lại đoạn code và cố ý nhập vào một giá trị bán kính < 0, quan sát kết quả. Dù bán kính < 0 nhưng máy tính vẫn tính & in ra chu vi & diện tích, như vậy có đúng logic chưa? Cách khắc phục lỗi này? (Gợi ý: dùng lệnh điều kiện if).\n",
        "- Chạy lại đoạn code và cố ý nhập vào một giá trị không phải kiểu số (vd 123ABC), quan sát kết quả. Vì sao máy tính báo lỗi \"ValueError\"? Cách khắc phục?\n",
        "- Hãy sửa lại đoạn code để in ra giá trị diện tích được làm tròn đến 2 chữ số phần thập phân.\n",
        "- Hãy sử dụng hằng số PI từ thư viện có sẵn theo gợi ý sau để có kết quả chính xác hơn:\n",
        "```python\n",
        "# Lệnh nạp thư viện toán học của Python\n",
        "import math\n",
        "\n",
        "# In ra giá trị số PI\n",
        "print(math.pi)\n",
        "# Tính diện tích hình tròn\n",
        "dien_tich = math.pi * ban_kinh ** 2\n",
        "```\n"
      ]
    },
    {
      "cell_type": "markdown",
      "metadata": {
        "id": "T6HZJzfnUFKu"
      },
      "source": [
        "## Bài 1.4: Tính chỉ số BMI\n",
        "BMI (Body Mass Index) là một chỉ số giúp đánh giá thể trạng của một người (thiếu cân, bình thường, thừa cân, béo phì) dựa vào cân nặng và chiều cao của họ. Chỉ số này được tính bằng công thức:\n",
        "$$\n",
        "  bmi = \\frac{{weight}}{height^2}\n",
        "$$\n",
        "trong đó cân nặng (weight) (đơn vị kg) chia cho bình phương chiều cao (height) (đơn vị mét). BMI là công cụ sàng lọc phổ biến, giúp xác định nguy cơ sức khỏe liên quan đến cân nặng và là cơ sở để điều chỉnh chế độ ăn uống, sinh hoạt.\n",
        "\n",
        "### Mục đích:\n",
        "  - Sử dụng được lệnh nhập, xuất dữ liệu và chuyển đổi sang kiểu dữ liệu phù hợp.\n",
        "  - Sử dụng câu lệnh điều khiển rẽ nhánh thích hợp.\n",
        "\n",
        "### Các bước thực hiện\n",
        "- Chèn một ô mã nguồn vào bên dưới.\n",
        "- Nhập đoạn lệnh sau:"
      ]
    },
    {
      "cell_type": "code",
      "execution_count": null,
      "metadata": {
        "colab": {
          "base_uri": "https://localhost:8080/"
        },
        "id": "ymng_K7nPA2L",
        "outputId": "1d596ca1-5cec-403e-d78b-b6d5f2bb4e1e"
      },
      "outputs": [
        {
          "name": "stdout",
          "output_type": "stream",
          "text": [
            "Nhập cân nặng (kg): 67\n",
            "Nhập chiều cao (mét): 1.65\n",
            "Chỉ số BMI của bạn là: 24.61\n"
          ]
        }
      ],
      "source": [
        "# Viết chương trình tính chỉ số BMI\n",
        "\n",
        "# Đọc giá trị cân nặng (kg)\n",
        "weight = float(input(\"Nhập cân nặng (kg): \"))\n",
        "# Đọc giá trị chiều cao (mét)\n",
        "height = float(input(\"Nhập chiều cao (mét): \"))\n",
        "\n",
        "# Tính chỉ số BMI\n",
        "bmi = weight / (height ** 2)\n",
        "\n",
        "# In ra chỉ số BMI\n",
        "print(f\"Chỉ số BMI của bạn là: {bmi:.2f}\")"
      ]
    },
    {
      "cell_type": "markdown",
      "metadata": {
        "id": "xTEC5uI5WHSu"
      },
      "source": [
        "- Chạy đoạn code trên và theo dõi kết quả.\n",
        "- Hãy bổ sung chương trình để in ra phân loại sức khỏe theo BMI dựa theo bảng phân loại sau:\n",
        "\n",
        "| Chỉ số BMI (kg/m²)       | Phân loại                         | Mức độ nguy cơ đối với sức khỏe |\n",
        "|---------------------------|-----------------------------------|----------------------------------|\n",
        "| < 18,5                    | Thiếu cân                        | Thấp (nhưng có thể thiếu dinh dưỡng, loãng xương) |\n",
        "| 18,5 – 22,9               | Bình thường                      | Trung bình                      |\n",
        "| 23,0 – 24,9               | Thừa cân                         | Có nguy cơ                      |\n",
        "| ≥ 25,0                | Béo phì                      | Cao                             |\n"
      ]
    },
    {
      "cell_type": "code",
      "execution_count": null,
      "metadata": {
        "colab": {
          "base_uri": "https://localhost:8080/"
        },
        "id": "epmn7-g1_XaQ",
        "outputId": "a16719c8-e0ce-431a-c3af-e9d627f402c0"
      },
      "outputs": [
        {
          "name": "stdout",
          "output_type": "stream",
          "text": [
            "Nhập cân nặng (kg): 67\n",
            "Nhập chiều cao (mét): 1.65\n",
            "Chỉ số BMI của bạn là: 24.61\n",
            "Tình trạng: Thừa cân\n"
          ]
        }
      ],
      "source": [
        "# Viết chương trình tính chỉ số BMI\n",
        "\n",
        "# Đọc giá trị cân nặng (kg)\n",
        "weight = float(input(\"Nhập cân nặng (kg): \"))\n",
        "# Đọc giá trị chiều cao (mét)\n",
        "height = float(input(\"Nhập chiều cao (mét): \"))\n",
        "\n",
        "# Tính chỉ số BMI\n",
        "bmi = weight / (height ** 2)\n",
        "\n",
        "# In ra chỉ số BMI\n",
        "print(f\"Chỉ số BMI của bạn là: {bmi:.2f}\")\n",
        "# Đánh giá tình trạng cân nặng dựa trên BMI\n",
        "if bmi < 18.5:\n",
        "    print(\"Tình trạng: Thiếu cân\")\n",
        "elif bmi <= 22.9:\n",
        "    print(\"Tình trạng: Cân nặng bình thường\")\n",
        "elif 23 <= bmi <= 24.9:\n",
        "    print(\"Tình trạng: Thừa cân\")\n",
        "else:\n",
        "    print(\"Tình trạng: Béo phì\")"
      ]
    },
    {
      "cell_type": "markdown",
      "metadata": {
        "id": "Clmh41Q0ZPT_"
      },
      "source": [
        "## Luyện tập\n",
        "\n",
        "### Bài 1.5: Giải phương trình bậc hai $ax^2+bx+c=0$, với $a,b,c$ là các số thực bất kỳ nhập từ bàn phím.\n",
        "\n",
        "### Bài 1.6: Nhập một năm dương lịch, tính xem năm đó có phải năm nhuận hay không. Biết năm nhuận là năm thỏa mãn một trong hai điều kiện:\n",
        "- Chia hết 400, hoặc\n",
        "- Chia hết 4 và không chia hết 100.\n",
        "\n",
        "### Bài 1.7: Cho bảng giá điện sinh hoạt giả định như sau:\n",
        "| Bậc | Mức sử dụng (kWh)     | Đơn giá (đồng/kWh) |\n",
        "|-----|-------------------------|------------------|\n",
        "| 1   | 0 – 50                  | 1750 |\n",
        "| 2   | 51 – 100                | 2000 |\n",
        "| 3   | >= 101                  | 2500 |\n",
        "\n",
        "Viết chương trình đọc số kWh tiêu thụ, dựa vào bảng giá tính số tiền điện phải trả.\n",
        "\n",
        "### Bài 1.8: Viết chương trình nhập các điểm thành phần môn học của một sinh viên: điểm quá trình, điểm thi giữa kỳ, điểm thi cuối kỳ.\n",
        "- Tính điểm tổng kết học phần của sinh viên đó theo công thức\n",
        "$$\n",
        "    \\text{Điểm tổng kết học phần = Điểm quá trình * 30% + Điểm giữa kỳ * 30% + Điểm cuối kỳ * 40%}\n",
        "$$\n",
        "- In thông báo \"Đạt\" nếu điểm tổng kết >= 5.0, ngược lại in thông báo \"Không đạt\"\n",
        "\n",
        "### Bài 1.9: Một máy ATM có các loại tiền mệnh giá 500000, 200000, 100000, và 50000 VND. Một người cần rút số tiền M (VND). Hãy đưa ra phương án rút được số  tiền M sao cho số tờ tiền là ít nhất.\n",
        "\n",
        "Ví dụ: Với số tiền cần rút là 950000, phương án tối ưu là 1 tờ 500000 + 2 tờ 200000 + 1 tờ 50000 VND.\n",
        "\n",
        "> **Gợi ý:** Sử dụng các toán tử trên số nguyên: phép chia lấy phần nguyên (//), lấy số dư (%)\n",
        "> - Nhập số tiền M.\n",
        "> - Kiểm tra M có thỏa mãn là số nguyên > 0 và chia hết cho mệnh giá nhỏ nhất (50000):\n",
        ">     - Nếu thỏa mãn:\n",
        ">        - Tính số tờ tiền theo mệnh giá cao nhất.\n",
        ">        - Tính số tiền còn lại.\n",
        ">        - Lần lượt đổi ra số tờ tiền cho các mệnh giá thấp hơn kế tiếp cho đến khi đủ số tiền cần rút.\n",
        ">        - In ra kết quả (số lượng tờ tiền mỗi loại)\n",
        ">    - Nếu không thỏa:\n",
        ">        - Thông báo \"Không rút được\"\n",
        "\n",
        "### Bài 1.10: ĐH Nha Trang lập kế hoạch thi cuối kỳ cho một lớp, dự kiến sử dụng ba phòng thi P1, P2, P3 với số sinh viên tương ứng là n1, n2, n3. Quy định mỗi bàn không bố trí quá hai chỗ ngồi. Hãy viết chương trình thực hiện các yêu cầu sau:\n",
        "- Nhập số lượng sinh viên của mỗi phòng thi.\n",
        "- Tính số lượng bàn tối thiểu cần bố trí cho mỗi phòng.\n",
        "- Tính tổng số lượng bàn cần bố trí.\n",
        "\n",
        "Ví dụ: Nếu xếp số SV của các phòng lần lượt là 35, 42, 39 thì số lượng bàn tối thiểu tương ứng mỗi phòng là 18, 21 và 20; tổng số bàn cần dùng là 59.\n",
        "> **Gợi ý:** Sử dụng hàm ceil() trong thư viện toán học (math) của Python.\n",
        "\n",
        "\n",
        "\n",
        "\n"
      ]
    },
    {
      "cell_type": "code",
      "execution_count": null,
      "metadata": {
        "id": "looGcYFAZq0s"
      },
      "outputs": [],
      "source": []
    }
  ],
  "metadata": {
    "colab": {
      "provenance": []
    },
    "kernelspec": {
      "display_name": "Python 3",
      "name": "python3"
    },
    "language_info": {
      "name": "python"
    }
  },
  "nbformat": 4,
  "nbformat_minor": 0
}
